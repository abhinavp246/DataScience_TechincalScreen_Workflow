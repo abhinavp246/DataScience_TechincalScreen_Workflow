{
 "cells": [
  {
   "cell_type": "markdown",
   "metadata": {},
   "source": [
    "# arpandey14@earlham.edu Xtern Data Science Technical Screen\n",
    "\n",
    "A dataset (checkin_dataset) of user GPS information was given, and the task was to draw conclusions from the dataset that would facilitate the development of the Community Highlights feature of OSXtern. The community highlights feature shows a user highlighted opportunities and locations around the city that can help guide their weekend or dinner plans. For this analysis, I've found the top areas 50 that users were visiting during dinnertime (6PM to 10PM) on the weekdays, and the top 50 areas that users were visiting from noon until midnight on the weekends. \n",
    "\n",
    "These top visited areas can be used in the development of the community highlights feature by narrowing the highlights to the bars/restaurants/events in the areas identified. \n",
    "\n",
    "Workflow for my analysis:\n",
    "\n",
    "1. Convert 'checkin_dataset.csv' to 'First_Converted_Dataset.xlsx' for compatibility with openpyxl. \n",
    "2. Extract user data from the weekends (Friday, Saturday, and Sunday), and the user data from weekdays (Monday-Thursday). \n",
    "3. On weekends, extract data from noon to midnight, and on weekdays, extract data from 6PM to 10PM to generate one xlsx file with data on weekends from noon to midnight, and another with data on weekdays from 6PM to 10PM. \n",
    "4. Identify the top 50 areas (I've used 2 decimal places of coordinate precision, however this can be changed to the degree of precision desired). \n",
    "5. Result visualization through pandas histogram. "
   ]
  },
  {
   "cell_type": "code",
   "execution_count": 1,
   "metadata": {
    "collapsed": true
   },
   "outputs": [],
   "source": [
    "''' This script extracts the data on Friday, Saturday and Sunday for the First_Converted_Dataset.\n",
    "'''\n",
    "#Lodaing the relevant libraries.\n",
    "from openpyxl import load_workbook, Workbook\n",
    "wb = load_workbook('First_Converted_Dataset.xlsx') #Name of workbook you want to import.\n",
    "ws = wb.active\n",
    "wb1 = Workbook()\n",
    "ws1 = wb1.create_sheet()\n",
    "myList = []\n",
    "\n",
    "#Traverse through the rows of the excel sheet.\n",
    "for i in range (1, 25670): #for i in range (1, NUMBER OF ROWS IN SHEET + 1)\n",
    "    d1 = ws.cell(row = i, column = 7) #column = Column # with the submission date.\n",
    "    if d1.value == \"Friday\" or d1.value == \"Satruday\" or d1.value == \"Sunday\": #Checking if the days are F, Sat, or Sun.\n",
    "        for p in range (1, 10):\n",
    "            store_val = ws.cell(row = i, column = p)\n",
    "            myList.append (store_val.value)\n",
    "        ws1.append(myList) #Writing the relevant rows to the new worksheet.\n",
    "    myList = []\n",
    "wb1.save('WeekendFilter.xlsx')"
   ]
  },
  {
   "cell_type": "code",
   "execution_count": 2,
   "metadata": {
    "collapsed": true
   },
   "outputs": [],
   "source": [
    "''' This script extracts the data on weekdays from the First_Converted_Dataset.\n",
    "'''\n",
    "\n",
    "#Lodaing the libraries.\n",
    "from openpyxl import load_workbook, Workbook\n",
    "wb = load_workbook('First_Converted_Dataset.xlsx') \n",
    "ws = wb.active\n",
    "wb1 = Workbook()\n",
    "ws1 = wb1.create_sheet()\n",
    "myList = []\n",
    "\n",
    "#Traverse through the rows of the excel sheet.\n",
    "for i in range (1, 25670): #for i in range (1, NUMBER OF ROWS IN SHEET + 1)\n",
    "    d1 = ws.cell(row = i, column = 7) \n",
    "    if d1.value != \"Friday\" and d1.value != \"Saturday\" and d1.value != \"Sunday\": #Checking for weekdays. \n",
    "        for p in range (1, 10):\n",
    "            store_val = ws.cell(row = i, column = p)\n",
    "            myList.append (store_val.value)\n",
    "        ws1.append(myList) #Writing the relevant rows to a new excel sheet. \n",
    "    myList = []\n",
    "wb1.save('WeekdayFilter.xlsx')\n"
   ]
  },
  {
   "cell_type": "code",
   "execution_count": 3,
   "metadata": {
    "collapsed": true
   },
   "outputs": [],
   "source": [
    "''' This script filters through the weekday data to find location data between 6PM and 10PM (usual weekday dinner time) only.\n",
    "'''\n",
    "\n",
    "#Load libraries\n",
    "from openpyxl import load_workbook, Workbook\n",
    "wb = load_workbook('WeekdayFilter.xlsx')\n",
    "ws = wb[\"Sheet1\"]\n",
    "wb1 = Workbook()\n",
    "ws1 = wb1.create_sheet()\n",
    "myList = []\n",
    "#Traverse through the rows of the excel sheet.\n",
    "for i in range (2, 14696): #for i in range (2, NUMBER OF ROWS IN SHEET + 1)\n",
    "    d1 = ws.cell(row = i, column = 8)\n",
    "    if d1.value <= 22 and d1.value >=18: #Checking for relevant timestamps.\n",
    "        for p in range (1, 10):\n",
    "            store_val = ws.cell(row = i, column = p)\n",
    "            myList.append (store_val.value)\n",
    "        ws1.append(myList) #Writing the relevant data to new excel sheet.\n",
    "    myList = []\n",
    "wb1.save('Weekdays_6PM_10PM.xlsx')"
   ]
  },
  {
   "cell_type": "code",
   "execution_count": 4,
   "metadata": {
    "collapsed": true
   },
   "outputs": [],
   "source": [
    "''' This script filters through the weekend data to find relevant timestamp data (Noon-Midnight).\n",
    "'''\n",
    "#Load libraries\n",
    "from openpyxl import load_workbook, Workbook\n",
    "wb = load_workbook('WeekendFilter.xlsx') #Name of workbook you want to import.\n",
    "ws = wb[\"Sheet1\"]\n",
    "wb1 = Workbook()\n",
    "ws1 = wb1.create_sheet()\n",
    "myList = []\n",
    "#Traverse through the rows of the excel sheet.\n",
    "for i in range (2, 7048): #for i in range (2, NUMBER OF ROWS IN  SHEET + 1)\n",
    "    d1 = ws.cell(row = i, column = 8)\n",
    "    if d1.value <= 24 and d1.value >=12:\n",
    "        for p in range (1, 10):\n",
    "            store_val = ws.cell(row = i, column = p)\n",
    "            myList.append (store_val.value) #append relevant data to new excel sheet.\n",
    "        ws1.append(myList)\n",
    "    myList = []\n",
    "wb1.save('Weekends_NOON_MIDNIGHT.xlsx')"
   ]
  },
  {
   "cell_type": "code",
   "execution_count": 7,
   "metadata": {},
   "outputs": [
    {
     "data": {
      "image/png": "[encoded data removed]",
      "text/plain": [
       "<matplotlib.figure.Figure at 0x1150267b8>"
      ]
     },
     "metadata": {},
     "output_type": "display_data"
    }
   ],
   "source": [
    "''' This is the script used to convert the Weekend data into a frequency histogram\n",
    "'''\n",
    "\n",
    "#Load the relevant libraries.\n",
    "from openpyxl import load_workbook, Workbook\n",
    "from collections import Counter\n",
    "from collections import OrderedDict\n",
    "from operator import itemgetter\n",
    "import pandas as pd\n",
    "import matplotlib.pyplot as plt\n",
    "\n",
    "wb = load_workbook('Weekends_NOON_MIDNIGHT.xlsx') #Name of workbook being imported.\n",
    "ws = wb[\"Sheet1\"]\n",
    "myList = []\n",
    "\n",
    "#Traverse through the rows of the excel sheet.\n",
    "for i in range (1, 3090): #for i in range (1, NUMBER OF ROWS IN SHEET + 1)\n",
    "    x1 = ws.cell(row = i, column = 4) \n",
    "    y1 = ws.cell(row=i, column = 5)\n",
    "    tup = (format(x1.value, '.2f'), format(y1.value, '.2f'))\n",
    "    myList.append(tup)\n",
    "\n",
    "d = {x:myList.count(x) for x in myList} #Creating a dictionary with cooridnates as the key, and frequency of the coordinate as the value.\n",
    "sorted_d = OrderedDict(sorted(d.items(),key=itemgetter(1,0),reverse = True)) #Ordering the dictionary. \n",
    "counter = 0\n",
    "s = \"\"\n",
    "glist = []\n",
    "\n",
    "for k,l in sorted_d.items(): # Creating a list of most visited areas in the form [(cooridnate, frequency)].\n",
    "    s = str(k[0]) + \",\" + str(k[1])\n",
    "    glist.append((s,l))\n",
    "    counter += 1\n",
    "    if counter == 50:\n",
    "        break\n",
    "\n",
    "df = pd.DataFrame(glist, columns=['Area', 'Visitors']) # Grpahing the results on a basic histogram for data visualization.\n",
    "df.plot(kind='bar', x='Area')\n",
    "plt.show()"
   ]
  },
  {
   "cell_type": "code",
   "execution_count": 6,
   "metadata": {},
   "outputs": [
    {
     "data": {
      "image/png": "[encoded data removed]",
      "text/plain": [
       "<matplotlib.figure.Figure at 0x1149330b8>"
      ]
     },
     "metadata": {},
     "output_type": "display_data"
    }
   ],
   "source": [
    "''' This is the script used to convert the Weekend data into a frequency histogram\n",
    "'''\n",
    "\n",
    "#Load the relevant libraries.\n",
    "from openpyxl import load_workbook, Workbook\n",
    "from collections import Counter\n",
    "from collections import OrderedDict\n",
    "from operator import itemgetter\n",
    "import pandas as pd\n",
    "import matplotlib.pyplot as plt\n",
    "\n",
    "wb = load_workbook('Weekdays_6PM_10PM.xlsx') #Name of workbook being imported.\n",
    "ws = wb[\"Sheet1\"]\n",
    "myList = []\n",
    "\n",
    "#Traverse through the rows of the excel sheet.\n",
    "for i in range (1, 3065): #for i in range (1, NUMBER OF ROWS IN SHEET + 1)\n",
    "    x1 = ws.cell(row = i, column = 4) \n",
    "    y1 = ws.cell(row=i, column = 5)\n",
    "    tup = (format(x1.value, '.2f'), format(y1.value, '.2f'))\n",
    "    myList.append(tup)\n",
    "\n",
    "d = {x:myList.count(x) for x in myList} #Creating a dictionary with cooridnates as the key, and frequency of the coordinate as the value.\n",
    "sorted_d = OrderedDict(sorted(d.items(),key=itemgetter(1,0),reverse = True)) #Ordering the dictionary. \n",
    "counter = 0\n",
    "s = \"\"\n",
    "glist = []\n",
    "\n",
    "for k,l in sorted_d.items(): # Creating a list of most visited areas in the form [(cooridnate, frequency)].\n",
    "    s = str(k[0]) + \",\" + str(k[1])\n",
    "    glist.append((s,l))\n",
    "    counter += 1\n",
    "    if counter == 50:\n",
    "        break\n",
    "\n",
    "df = pd.DataFrame(glist, columns=['Area', 'Visitors']) # Grpahing the results on a basic histogram for data visualization.\n",
    "df.plot(kind='bar', x='Area')\n",
    "plt.show()"
   ]
  },
  {
   "cell_type": "code",
   "execution_count": null,
   "metadata": {
    "collapsed": true
   },
   "outputs": [],
   "source": []
  }
 ],
 "metadata": {
  "kernelspec": {
   "display_name": "Python 3",
   "language": "python",
   "name": "python3"
  },
  "language_info": {
   "codemirror_mode": {
    "name": "ipython",
    "version": 3
   },
   "file_extension": ".py",
   "mimetype": "text/x-python",
   "name": "python",
   "nbconvert_exporter": "python",
   "pygments_lexer": "ipython3",
   "version": "3.6.2"
  }
 },
 "nbformat": 4,
 "nbformat_minor": 2
}
